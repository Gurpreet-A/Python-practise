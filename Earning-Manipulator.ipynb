{
 "cells": [
  {
   "cell_type": "code",
   "execution_count": 8,
   "metadata": {
    "collapsed": true
   },
   "outputs": [],
   "source": [
    "import pandas as pd\n",
    "import numpy as np\n",
    "import matplotlib.pyplot as plt"
   ]
  },
  {
   "cell_type": "code",
   "execution_count": 9,
   "metadata": {},
   "outputs": [],
   "source": [
    "%matplotlib inline"
   ]
  },
  {
   "cell_type": "code",
   "execution_count": 10,
   "metadata": {
    "collapsed": true
   },
   "outputs": [],
   "source": [
    "df=pd.read_csv(\"CompleteData.csv\")"
   ]
  },
  {
   "cell_type": "code",
   "execution_count": 11,
   "metadata": {},
   "outputs": [
    {
     "name": "stdout",
     "output_type": "stream",
     "text": [
      "<class 'pandas.core.frame.DataFrame'>\n",
      "RangeIndex: 1239 entries, 0 to 1238\n",
      "Data columns (total 11 columns):\n",
      "Company ID       1239 non-null int64\n",
      "DSRI             1239 non-null float64\n",
      "GMI              1239 non-null float64\n",
      "AQI              1239 non-null float64\n",
      "SGI              1239 non-null float64\n",
      "DEPI             1239 non-null float64\n",
      "SGAI             1239 non-null float64\n",
      "ACCR             1239 non-null float64\n",
      "LEVI             1239 non-null float64\n",
      "Manipulater      1239 non-null object\n",
      "C-MANIPULATOR    1239 non-null int64\n",
      "dtypes: float64(8), int64(2), object(1)\n",
      "memory usage: 106.6+ KB\n"
     ]
    }
   ],
   "source": [
    "df.info()"
   ]
  },
  {
   "cell_type": "code",
   "execution_count": 12,
   "metadata": {},
   "outputs": [
    {
     "data": {
      "text/html": [
       "<div>\n",
       "<style scoped>\n",
       "    .dataframe tbody tr th:only-of-type {\n",
       "        vertical-align: middle;\n",
       "    }\n",
       "\n",
       "    .dataframe tbody tr th {\n",
       "        vertical-align: top;\n",
       "    }\n",
       "\n",
       "    .dataframe thead th {\n",
       "        text-align: right;\n",
       "    }\n",
       "</style>\n",
       "<table border=\"1\" class=\"dataframe\">\n",
       "  <thead>\n",
       "    <tr style=\"text-align: right;\">\n",
       "      <th></th>\n",
       "      <th>Company ID</th>\n",
       "      <th>DSRI</th>\n",
       "      <th>GMI</th>\n",
       "      <th>AQI</th>\n",
       "      <th>SGI</th>\n",
       "      <th>DEPI</th>\n",
       "      <th>SGAI</th>\n",
       "      <th>ACCR</th>\n",
       "      <th>LEVI</th>\n",
       "      <th>C-MANIPULATOR</th>\n",
       "    </tr>\n",
       "  </thead>\n",
       "  <tbody>\n",
       "    <tr>\n",
       "      <th>count</th>\n",
       "      <td>1239.0000</td>\n",
       "      <td>1239.000000</td>\n",
       "      <td>1239.000000</td>\n",
       "      <td>1239.000000</td>\n",
       "      <td>1239.000000</td>\n",
       "      <td>1239.000000</td>\n",
       "      <td>1239.000000</td>\n",
       "      <td>1239.000000</td>\n",
       "      <td>1239.000000</td>\n",
       "      <td>1239.000000</td>\n",
       "    </tr>\n",
       "    <tr>\n",
       "      <th>mean</th>\n",
       "      <td>620.0000</td>\n",
       "      <td>1.169082</td>\n",
       "      <td>0.987862</td>\n",
       "      <td>0.997819</td>\n",
       "      <td>1.127086</td>\n",
       "      <td>1.040142</td>\n",
       "      <td>1.107229</td>\n",
       "      <td>-0.032421</td>\n",
       "      <td>1.057094</td>\n",
       "      <td>0.031477</td>\n",
       "    </tr>\n",
       "    <tr>\n",
       "      <th>std</th>\n",
       "      <td>357.8128</td>\n",
       "      <td>1.289705</td>\n",
       "      <td>1.585856</td>\n",
       "      <td>2.559627</td>\n",
       "      <td>0.653244</td>\n",
       "      <td>0.360644</td>\n",
       "      <td>1.478032</td>\n",
       "      <td>0.142540</td>\n",
       "      <td>0.520369</td>\n",
       "      <td>0.174673</td>\n",
       "    </tr>\n",
       "    <tr>\n",
       "      <th>min</th>\n",
       "      <td>1.0000</td>\n",
       "      <td>0.000000</td>\n",
       "      <td>-20.811849</td>\n",
       "      <td>-32.885647</td>\n",
       "      <td>0.027685</td>\n",
       "      <td>0.068823</td>\n",
       "      <td>0.000000</td>\n",
       "      <td>-3.143505</td>\n",
       "      <td>0.000000</td>\n",
       "      <td>0.000000</td>\n",
       "    </tr>\n",
       "    <tr>\n",
       "      <th>25%</th>\n",
       "      <td>310.5000</td>\n",
       "      <td>0.890833</td>\n",
       "      <td>0.927076</td>\n",
       "      <td>0.771214</td>\n",
       "      <td>0.970208</td>\n",
       "      <td>0.936904</td>\n",
       "      <td>0.898767</td>\n",
       "      <td>-0.076328</td>\n",
       "      <td>0.923212</td>\n",
       "      <td>0.000000</td>\n",
       "    </tr>\n",
       "    <tr>\n",
       "      <th>50%</th>\n",
       "      <td>620.0000</td>\n",
       "      <td>1.022724</td>\n",
       "      <td>1.000000</td>\n",
       "      <td>1.004023</td>\n",
       "      <td>1.088962</td>\n",
       "      <td>1.001908</td>\n",
       "      <td>1.000000</td>\n",
       "      <td>-0.029245</td>\n",
       "      <td>1.013065</td>\n",
       "      <td>0.000000</td>\n",
       "    </tr>\n",
       "    <tr>\n",
       "      <th>75%</th>\n",
       "      <td>929.5000</td>\n",
       "      <td>1.192495</td>\n",
       "      <td>1.057962</td>\n",
       "      <td>1.216278</td>\n",
       "      <td>1.199975</td>\n",
       "      <td>1.081363</td>\n",
       "      <td>1.129950</td>\n",
       "      <td>0.022519</td>\n",
       "      <td>1.115624</td>\n",
       "      <td>0.000000</td>\n",
       "    </tr>\n",
       "    <tr>\n",
       "      <th>max</th>\n",
       "      <td>1239.0000</td>\n",
       "      <td>36.291185</td>\n",
       "      <td>46.466667</td>\n",
       "      <td>52.886734</td>\n",
       "      <td>13.081433</td>\n",
       "      <td>5.393872</td>\n",
       "      <td>49.301781</td>\n",
       "      <td>0.959888</td>\n",
       "      <td>13.058559</td>\n",
       "      <td>1.000000</td>\n",
       "    </tr>\n",
       "  </tbody>\n",
       "</table>\n",
       "</div>"
      ],
      "text/plain": [
       "       Company ID         DSRI          GMI          AQI          SGI  \\\n",
       "count   1239.0000  1239.000000  1239.000000  1239.000000  1239.000000   \n",
       "mean     620.0000     1.169082     0.987862     0.997819     1.127086   \n",
       "std      357.8128     1.289705     1.585856     2.559627     0.653244   \n",
       "min        1.0000     0.000000   -20.811849   -32.885647     0.027685   \n",
       "25%      310.5000     0.890833     0.927076     0.771214     0.970208   \n",
       "50%      620.0000     1.022724     1.000000     1.004023     1.088962   \n",
       "75%      929.5000     1.192495     1.057962     1.216278     1.199975   \n",
       "max     1239.0000    36.291185    46.466667    52.886734    13.081433   \n",
       "\n",
       "              DEPI         SGAI         ACCR         LEVI  C-MANIPULATOR  \n",
       "count  1239.000000  1239.000000  1239.000000  1239.000000    1239.000000  \n",
       "mean      1.040142     1.107229    -0.032421     1.057094       0.031477  \n",
       "std       0.360644     1.478032     0.142540     0.520369       0.174673  \n",
       "min       0.068823     0.000000    -3.143505     0.000000       0.000000  \n",
       "25%       0.936904     0.898767    -0.076328     0.923212       0.000000  \n",
       "50%       1.001908     1.000000    -0.029245     1.013065       0.000000  \n",
       "75%       1.081363     1.129950     0.022519     1.115624       0.000000  \n",
       "max       5.393872    49.301781     0.959888    13.058559       1.000000  "
      ]
     },
     "execution_count": 12,
     "metadata": {},
     "output_type": "execute_result"
    }
   ],
   "source": [
    "df.describe()"
   ]
  },
  {
   "cell_type": "code",
   "execution_count": 10,
   "metadata": {},
   "outputs": [
    {
     "data": {
      "text/plain": [
       "Company ID       0\n",
       "DSRI             0\n",
       "GMI              0\n",
       "AQI              0\n",
       "SGI              0\n",
       "DEPI             0\n",
       "SGAI             0\n",
       "ACCR             0\n",
       "LEVI             0\n",
       "Manipulater      0\n",
       "C-MANIPULATOR    0\n",
       "dtype: int64"
      ]
     },
     "execution_count": 10,
     "metadata": {},
     "output_type": "execute_result"
    }
   ],
   "source": [
    "df.isnull().sum()"
   ]
  },
  {
   "cell_type": "code",
   "execution_count": 43,
   "metadata": {},
   "outputs": [
    {
     "data": {
      "text/plain": [
       "Company ID       39\n",
       "DSRI             39\n",
       "GMI              39\n",
       "AQI              39\n",
       "SGI              39\n",
       "DEPI             39\n",
       "SGAI             39\n",
       "ACCR             39\n",
       "LEVI             39\n",
       "Manipulater      39\n",
       "C-MANIPULATOR    39\n",
       "dtype: int64"
      ]
     },
     "execution_count": 43,
     "metadata": {},
     "output_type": "execute_result"
    }
   ],
   "source": [
    "df[df['C-MANIPULATOR']==1].count()\n",
    "    "
   ]
  },
  {
   "cell_type": "code",
   "execution_count": 13,
   "metadata": {},
   "outputs": [],
   "source": [
    "X=df[['DSRI','GMI','AQI','SGI','DEPI','SGAI','ACCR','LEVI']]\n",
    "y=df['C-MANIPULATOR']"
   ]
  },
  {
   "cell_type": "code",
   "execution_count": 14,
   "metadata": {
    "collapsed": true
   },
   "outputs": [],
   "source": [
    "from sklearn.model_selection import train_test_split"
   ]
  },
  {
   "cell_type": "code",
   "execution_count": 15,
   "metadata": {
    "collapsed": true
   },
   "outputs": [],
   "source": [
    "X_train, X_test, y_train, y_test = train_test_split(X, y, test_size=0.4, random_state=101)"
   ]
  },
  {
   "cell_type": "code",
   "execution_count": 16,
   "metadata": {},
   "outputs": [
    {
     "data": {
      "text/plain": [
       "pandas.core.series.Series"
      ]
     },
     "execution_count": 16,
     "metadata": {},
     "output_type": "execute_result"
    }
   ],
   "source": [
    "type(y_train)"
   ]
  },
  {
   "cell_type": "code",
   "execution_count": 64,
   "metadata": {},
   "outputs": [
    {
     "data": {
      "text/plain": [
       "21"
      ]
     },
     "execution_count": 64,
     "metadata": {},
     "output_type": "execute_result"
    }
   ],
   "source": [
    "y2.count(1)\n"
   ]
  },
  {
   "cell_type": "code",
   "execution_count": 64,
   "metadata": {},
   "outputs": [
    {
     "data": {
      "text/plain": [
       "21"
      ]
     },
     "execution_count": 64,
     "metadata": {},
     "output_type": "execute_result"
    }
   ],
   "source": [
    "y_test.sum()"
   ]
  },
  {
   "cell_type": "code",
   "execution_count": 18,
   "metadata": {},
   "outputs": [],
   "source": [
    "from sklearn import *\n",
    "from imblearn.over_sampling import SMOTE"
   ]
  },
  {
   "cell_type": "code",
   "execution_count": 19,
   "metadata": {},
   "outputs": [],
   "source": [
    "sm = SMOTE(random_state=42)"
   ]
  },
  {
   "cell_type": "code",
   "execution_count": 20,
   "metadata": {},
   "outputs": [],
   "source": [
    "X_train, y_train = sm.fit_sample(X_train, y_train)"
   ]
  },
  {
   "cell_type": "code",
   "execution_count": 66,
   "metadata": {},
   "outputs": [],
   "source": [
    "yt1=list(y_train)"
   ]
  },
  {
   "cell_type": "code",
   "execution_count": 68,
   "metadata": {},
   "outputs": [
    {
     "data": {
      "text/plain": [
       "725"
      ]
     },
     "execution_count": 68,
     "metadata": {},
     "output_type": "execute_result"
    }
   ],
   "source": [
    "yt1.count(1)"
   ]
  },
  {
   "cell_type": "code",
   "execution_count": 24,
   "metadata": {},
   "outputs": [
    {
     "data": {
      "text/plain": [
       "array([[  9.63222155e-01,   8.65484866e-01,  -1.09547812e+01, ...,\n",
       "          9.66418969e-01,  -9.93221110e-02,   9.64769782e-01],\n",
       "       [  1.17362910e+00,   1.16688151e+00,   5.08066081e-01, ...,\n",
       "          8.81578211e-01,  -9.72459070e-02,   1.05719338e+00],\n",
       "       [  1.37984891e+00,   1.97034267e+00,   1.93811445e+00, ...,\n",
       "          4.65303527e-01,  -1.36314088e-01,   1.01868331e+00],\n",
       "       ..., \n",
       "       [  1.00000000e+00,   1.00946184e+00,   9.81207215e-01, ...,\n",
       "          1.58155636e+00,   1.43103805e-01,   7.79390357e-01],\n",
       "       [  1.24329269e+00,   1.01934325e+00,   1.15584269e+00, ...,\n",
       "          1.13384527e+00,  -8.61089063e-03,   1.11172877e+00],\n",
       "       [  1.00000000e+00,   8.65279697e-01,   9.24058797e-01, ...,\n",
       "          7.74143870e-01,   6.36654297e-03,   1.04724044e+00]])"
      ]
     },
     "execution_count": 24,
     "metadata": {},
     "output_type": "execute_result"
    }
   ],
   "source": [
    "X_train"
   ]
  },
  {
   "cell_type": "code",
   "execution_count": 38,
   "metadata": {
    "collapsed": true
   },
   "outputs": [],
   "source": [
    "from sklearn.linear_model import LogisticRegression"
   ]
  },
  {
   "cell_type": "code",
   "execution_count": 39,
   "metadata": {},
   "outputs": [
    {
     "data": {
      "text/plain": [
       "LogisticRegression(C=1.0, class_weight=None, dual=False, fit_intercept=True,\n",
       "          intercept_scaling=1, max_iter=100, multi_class='ovr', n_jobs=1,\n",
       "          penalty='l2', random_state=None, solver='liblinear', tol=0.0001,\n",
       "          verbose=0, warm_start=False)"
      ]
     },
     "execution_count": 39,
     "metadata": {},
     "output_type": "execute_result"
    }
   ],
   "source": [
    "logmodel = LogisticRegression()\n",
    "logmodel.fit(X_train,y_train)"
   ]
  },
  {
   "cell_type": "code",
   "execution_count": 40,
   "metadata": {
    "collapsed": true
   },
   "outputs": [],
   "source": [
    "predictions = logmodel.predict(X_test)"
   ]
  },
  {
   "cell_type": "code",
   "execution_count": 41,
   "metadata": {
    "collapsed": true
   },
   "outputs": [],
   "source": [
    "from sklearn.metrics import classification_report"
   ]
  },
  {
   "cell_type": "code",
   "execution_count": 42,
   "metadata": {},
   "outputs": [
    {
     "name": "stdout",
     "output_type": "stream",
     "text": [
      "             precision    recall  f1-score   support\n",
      "\n",
      "          0       0.98      0.87      0.92       475\n",
      "          1       0.18      0.67      0.29        21\n",
      "\n",
      "avg / total       0.95      0.86      0.90       496\n",
      "\n"
     ]
    }
   ],
   "source": [
    "print(classification_report(y_test,predictions))"
   ]
  },
  {
   "cell_type": "code",
   "execution_count": 69,
   "metadata": {
    "collapsed": true
   },
   "outputs": [],
   "source": [
    "from sklearn.tree import DecisionTreeClassifier"
   ]
  },
  {
   "cell_type": "code",
   "execution_count": 70,
   "metadata": {
    "collapsed": true
   },
   "outputs": [],
   "source": [
    "dtree = DecisionTreeClassifier()"
   ]
  },
  {
   "cell_type": "code",
   "execution_count": 72,
   "metadata": {},
   "outputs": [
    {
     "data": {
      "text/plain": [
       "DecisionTreeClassifier(class_weight=None, criterion='gini', max_depth=None,\n",
       "            max_features=None, max_leaf_nodes=None,\n",
       "            min_impurity_decrease=0.0, min_impurity_split=None,\n",
       "            min_samples_leaf=1, min_samples_split=2,\n",
       "            min_weight_fraction_leaf=0.0, presort=False, random_state=None,\n",
       "            splitter='best')"
      ]
     },
     "execution_count": 72,
     "metadata": {},
     "output_type": "execute_result"
    }
   ],
   "source": [
    "dtree.fit(X_train,y_train)"
   ]
  },
  {
   "cell_type": "code",
   "execution_count": 73,
   "metadata": {
    "collapsed": true
   },
   "outputs": [],
   "source": [
    "predictions = dtree.predict(X_test)"
   ]
  },
  {
   "cell_type": "code",
   "execution_count": 74,
   "metadata": {
    "collapsed": true
   },
   "outputs": [],
   "source": [
    "from sklearn.metrics import classification_report,confusion_matrix"
   ]
  },
  {
   "cell_type": "code",
   "execution_count": 75,
   "metadata": {},
   "outputs": [
    {
     "name": "stdout",
     "output_type": "stream",
     "text": [
      "             precision    recall  f1-score   support\n",
      "\n",
      "          0       0.96      0.92      0.94       475\n",
      "          1       0.09      0.19      0.12        21\n",
      "\n",
      "avg / total       0.93      0.89      0.90       496\n",
      "\n"
     ]
    }
   ],
   "source": [
    "print(classification_report(y_test,predictions))"
   ]
  },
  {
   "cell_type": "code",
   "execution_count": 76,
   "metadata": {},
   "outputs": [
    {
     "name": "stdout",
     "output_type": "stream",
     "text": [
      "[[435  40]\n",
      " [ 17   4]]\n"
     ]
    }
   ],
   "source": [
    "print(confusion_matrix(y_test,predictions))"
   ]
  },
  {
   "cell_type": "code",
   "execution_count": 77,
   "metadata": {
    "collapsed": true
   },
   "outputs": [],
   "source": [
    "##testing on unseen sample data to test accuracy\n",
    "\n",
    "sample_data=pd.read_csv(\"SampleData.csv\")"
   ]
  },
  {
   "cell_type": "code",
   "execution_count": 90,
   "metadata": {},
   "outputs": [],
   "source": [
    "x1_test=sample_data[['DSRI','GMI','AQI','SGI','DEPI','SGAI','ACCR','LEVI']]"
   ]
  },
  {
   "cell_type": "code",
   "execution_count": 92,
   "metadata": {},
   "outputs": [],
   "source": [
    "y1_test=sample_data['C-MANIPULATOR']"
   ]
  },
  {
   "cell_type": "code",
   "execution_count": 94,
   "metadata": {},
   "outputs": [],
   "source": [
    "predictions = dtree.predict(x1_test)"
   ]
  },
  {
   "cell_type": "code",
   "execution_count": 95,
   "metadata": {},
   "outputs": [
    {
     "name": "stdout",
     "output_type": "stream",
     "text": [
      "             precision    recall  f1-score   support\n",
      "\n",
      "          0       0.91      0.98      0.94       181\n",
      "          1       0.85      0.56      0.68        39\n",
      "\n",
      "avg / total       0.90      0.90      0.90       220\n",
      "\n"
     ]
    }
   ],
   "source": [
    "print(classification_report(y1_test,predictions))"
   ]
  },
  {
   "cell_type": "code",
   "execution_count": 96,
   "metadata": {},
   "outputs": [
    {
     "data": {
      "text/plain": [
       "RandomForestClassifier(bootstrap=True, class_weight=None, criterion='gini',\n",
       "            max_depth=None, max_features='auto', max_leaf_nodes=None,\n",
       "            min_impurity_decrease=0.0, min_impurity_split=None,\n",
       "            min_samples_leaf=1, min_samples_split=2,\n",
       "            min_weight_fraction_leaf=0.0, n_estimators=100, n_jobs=1,\n",
       "            oob_score=False, random_state=None, verbose=0,\n",
       "            warm_start=False)"
      ]
     },
     "execution_count": 96,
     "metadata": {},
     "output_type": "execute_result"
    }
   ],
   "source": [
    "##modeling using random forestt\n",
    "from sklearn.ensemble import RandomForestClassifier\n",
    "rfc = RandomForestClassifier(n_estimators=100)\n",
    "rfc.fit(X_train, y_train)"
   ]
  },
  {
   "cell_type": "code",
   "execution_count": 102,
   "metadata": {
    "collapsed": true
   },
   "outputs": [],
   "source": [
    "predictions = rfc.predict(X_test)"
   ]
  },
  {
   "cell_type": "code",
   "execution_count": 103,
   "metadata": {},
   "outputs": [
    {
     "name": "stdout",
     "output_type": "stream",
     "text": [
      "             precision    recall  f1-score   support\n",
      "\n",
      "          0       0.97      0.96      0.96       475\n",
      "          1       0.21      0.24      0.22        21\n",
      "\n",
      "avg / total       0.93      0.93      0.93       496\n",
      "\n"
     ]
    }
   ],
   "source": [
    "print(classification_report(y_test,predictions))"
   ]
  },
  {
   "cell_type": "code",
   "execution_count": 104,
   "metadata": {
    "collapsed": true
   },
   "outputs": [],
   "source": [
    "predictions = rfc.predict(x1_test)"
   ]
  },
  {
   "cell_type": "code",
   "execution_count": 105,
   "metadata": {},
   "outputs": [
    {
     "name": "stdout",
     "output_type": "stream",
     "text": [
      "             precision    recall  f1-score   support\n",
      "\n",
      "          0       0.92      0.97      0.94       181\n",
      "          1       0.82      0.59      0.69        39\n",
      "\n",
      "avg / total       0.90      0.90      0.90       220\n",
      "\n"
     ]
    }
   ],
   "source": [
    "print(classification_report(y1_test,predictions))"
   ]
  },
  {
   "cell_type": "code",
   "execution_count": null,
   "metadata": {
    "collapsed": true
   },
   "outputs": [],
   "source": []
  }
 ],
 "metadata": {
  "kernelspec": {
   "display_name": "Python 3",
   "language": "python",
   "name": "python3"
  },
  "language_info": {
   "codemirror_mode": {
    "name": "ipython",
    "version": 3
   },
   "file_extension": ".py",
   "mimetype": "text/x-python",
   "name": "python",
   "nbconvert_exporter": "python",
   "pygments_lexer": "ipython3",
   "version": "3.6.3"
  }
 },
 "nbformat": 4,
 "nbformat_minor": 2
}
